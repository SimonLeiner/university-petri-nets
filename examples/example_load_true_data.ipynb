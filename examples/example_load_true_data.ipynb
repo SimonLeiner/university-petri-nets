{
 "cells": [
  {
   "cell_type": "markdown",
   "metadata": {},
   "source": [
    "# Guide to View Interface Pattern for Compositional Process Discovery\n"
   ]
  },
  {
   "cell_type": "markdown",
   "metadata": {},
   "source": [
    "#### Further References:\n"
   ]
  },
  {
   "cell_type": "code",
   "execution_count": 1,
   "metadata": {},
   "outputs": [],
   "source": [
    "import pm4py"
   ]
  },
  {
   "cell_type": "markdown",
   "metadata": {},
   "source": [
    "#### 1. Import the Event Log for Interface Pattern IP-1\n"
   ]
  },
  {
   "cell_type": "code",
   "execution_count": 2,
   "metadata": {},
   "outputs": [
    {
     "data": {
      "application/vnd.jupyter.widget-view+json": {
       "model_id": "35aab25c0d7d419182394ed47983234e",
       "version_major": 2,
       "version_minor": 0
      },
      "text/plain": [
       "parsing log, completed traces ::   0%|          | 0/5000 [00:00<?, ?it/s]"
      ]
     },
     "metadata": {},
     "output_type": "display_data"
    }
   ],
   "source": [
    "# Load the event log\n",
    "event_log = pm4py.read_xes(\n",
    "    \"/workspaces/university-petri-nets/data_catalog/compositional_process_discovery_experiment_data/IP-1/IP-1_initial_log.xes\",\n",
    ")"
   ]
  },
  {
   "cell_type": "markdown",
   "metadata": {},
   "source": [
    "#### 2. Get the Petri Nets"
   ]
  },
  {
   "cell_type": "code",
   "execution_count": 3,
   "metadata": {},
   "outputs": [
    {
     "name": "stderr",
     "output_type": "stream",
     "text": [
      "/usr/local/lib/python3.12/site-packages/pm4py/objects/petri_net/importer/variants/pnml.py:354: UserWarning: the Petri net has been imported without a specified final marking. Please create it using the method pm4py.generate_marking\n",
      "  warnings.warn(\"the Petri net has been imported without a specified final marking. Please create it using the method pm4py.generate_marking\")\n"
     ]
    }
   ],
   "source": [
    "# compositionally mined  process model\n",
    "pn_coposition_mined = pm4py.read_pnml(\n",
    "    \"/workspaces/university-petri-nets/data_catalog/compositional_process_discovery_experiment_data/IP-1/IP-1_composition_mined.pnml\"\n",
    ")\n",
    "\n",
    "# Directly mined  process model\n",
    "pn_directly_mined = pm4py.read_pnml(\n",
    "    \"/workspaces/university-petri-nets/data_catalog/compositional_process_discovery_experiment_data/IP-1/IP-1_directly_mined.pnml\"\n",
    ")\n",
    "\n",
    "# Reference process model\n",
    "pn_ref_model = pm4py.read_pnml(\n",
    "    \"/workspaces/university-petri-nets/data_catalog/compositional_process_discovery_experiment_data/IP-1/IP-1_ref_model.pnml\"\n",
    ")"
   ]
  },
  {
   "cell_type": "markdown",
   "metadata": {},
   "source": []
  },
  {
   "cell_type": "code",
   "execution_count": 4,
   "metadata": {},
   "outputs": [
    {
     "ename": "NameError",
     "evalue": "name 'log' is not defined",
     "output_type": "error",
     "traceback": [
      "\u001b[0;31m---------------------------------------------------------------------------\u001b[0m",
      "\u001b[0;31mNameError\u001b[0m                                 Traceback (most recent call last)",
      "Cell \u001b[0;32mIn[4], line 1\u001b[0m\n\u001b[0;32m----> 1\u001b[0m fitness \u001b[38;5;241m=\u001b[39m pm4py\u001b[38;5;241m.\u001b[39mfitness_alignments(\u001b[43mlog\u001b[49m, \u001b[38;5;241m*\u001b[39mpn)\n\u001b[1;32m      2\u001b[0m precision \u001b[38;5;241m=\u001b[39m pm4py\u001b[38;5;241m.\u001b[39mprecision_alignments(log, \u001b[38;5;241m*\u001b[39mpn)\n\u001b[1;32m      3\u001b[0m alignments \u001b[38;5;241m=\u001b[39m pm4py\u001b[38;5;241m.\u001b[39mconformance_diagnostics_alignments(log, \u001b[38;5;241m*\u001b[39mpn)\n",
      "\u001b[0;31mNameError\u001b[0m: name 'log' is not defined"
     ]
    }
   ],
   "source": [
    "fitness = pm4py.fitness_alignments(log, *pn)\n",
    "precision = pm4py.precision_alignments(log, *pn)\n",
    "alignments = pm4py.conformance_diagnostics_alignments(log, *pn)"
   ]
  }
 ],
 "metadata": {
  "kernelspec": {
   "display_name": "Python 3",
   "language": "python",
   "name": "python3"
  },
  "language_info": {
   "codemirror_mode": {
    "name": "ipython",
    "version": 3
   },
   "file_extension": ".py",
   "mimetype": "text/x-python",
   "name": "python",
   "nbconvert_exporter": "python",
   "pygments_lexer": "ipython3",
   "version": "3.12.5"
  }
 },
 "nbformat": 4,
 "nbformat_minor": 2
}
