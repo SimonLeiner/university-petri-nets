{
 "cells": [
  {
   "cell_type": "markdown",
   "metadata": {},
   "source": [
    "# Introduction to the Paper Data\n"
   ]
  },
  {
   "cell_type": "markdown",
   "metadata": {},
   "source": [
    "#### Further References:\n"
   ]
  },
  {
   "cell_type": "code",
   "execution_count": null,
   "metadata": {},
   "outputs": [],
   "source": [
    "%load_ext autoreload\n",
    "%autoreload 2"
   ]
  },
  {
   "cell_type": "code",
   "execution_count": 1,
   "metadata": {},
   "outputs": [],
   "source": [
    "import pm4py"
   ]
  },
  {
   "cell_type": "markdown",
   "metadata": {},
   "source": [
    "#### 1. Import the Event Log for Interface Pattern IP-1\n"
   ]
  },
  {
   "cell_type": "code",
   "execution_count": null,
   "metadata": {},
   "outputs": [],
   "source": [
    "# Load the event log\n",
    "df_log = pm4py.read_xes(\n",
    "    \"/workspaces/university-petri-nets/backend/data_catalog/compositional_process_discovery_experiment_data/IP-2/IP2_initial_log.xes\",\n",
    ")\n",
    "display(df_log.head(5))"
   ]
  },
  {
   "cell_type": "code",
   "execution_count": 3,
   "metadata": {},
   "outputs": [],
   "source": [
    "# need dateas column and not index, but make sure sorted\n",
    "df_log = df_log.sort_values(\"time:timestamp\").reset_index(drop=True)"
   ]
  },
  {
   "cell_type": "code",
   "execution_count": null,
   "metadata": {},
   "outputs": [],
   "source": [
    "# Some basic statistics\n",
    "# number of events\n",
    "print(f\"Number of Events: {len(df_log)}\")\n",
    "print(f\"Number of Agents: {len(df_log['org:resource'].unique())}\")\n",
    "print(f\"Number of Cases: {len(df_log['concept:name'].unique())}\")\n",
    "print(\n",
    "    f\"From {df_log['time:timestamp'].min()} to {df_log['time:timestamp'].max()}. Is Sorted: {df_log['time:timestamp'].is_monotonic_increasing}\",\n",
    ")"
   ]
  },
  {
   "cell_type": "code",
   "execution_count": null,
   "metadata": {},
   "outputs": [],
   "source": [
    "print(f\"Length of each trace: {[len(x) for x in df_log]}\")"
   ]
  },
  {
   "cell_type": "markdown",
   "metadata": {},
   "source": [
    "#### 2. Get the Petri Nets\n"
   ]
  },
  {
   "cell_type": "code",
   "execution_count": null,
   "metadata": {},
   "outputs": [],
   "source": [
    "# Reference process model\n",
    "pn_ref_model, initial_marking, final_marking = pm4py.read_pnml(\n",
    "    \"/workspaces/university-petri-nets/backend/data_catalog/compositional_process_discovery_experiment_data/IP-2/IP2_ref_model.pnml\",\n",
    ")\n",
    "pm4py.view_petri_net(pn_ref_model)"
   ]
  },
  {
   "cell_type": "code",
   "execution_count": null,
   "metadata": {},
   "outputs": [],
   "source": [
    "# compositionally mined process model\n",
    "pn_coposition_mined, initial_marking, final_marking = pm4py.read_pnml(\n",
    "    \"/workspaces/university-petri-nets/backend/data_catalog/compositional_process_discovery_experiment_data/IP-2/IP2_composition_mined.pnml\",\n",
    ")\n",
    "pm4py.view_petri_net(pn_coposition_mined)"
   ]
  },
  {
   "cell_type": "code",
   "execution_count": null,
   "metadata": {},
   "outputs": [],
   "source": [
    "# Directly mined Process model\n",
    "pn_directly_mined, initial_marking, final_marking = pm4py.read_pnml(\n",
    "    \"/workspaces/university-petri-nets/backend/data_catalog/compositional_process_discovery_experiment_data/IP-2/IP2_directly_mined.pnml\",\n",
    ")\n",
    "pm4py.view_petri_net(pn_directly_mined)"
   ]
  }
 ],
 "metadata": {
  "kernelspec": {
   "display_name": "Python 3",
   "language": "python",
   "name": "python3"
  },
  "language_info": {
   "codemirror_mode": {
    "name": "ipython",
    "version": 3
   },
   "file_extension": ".py",
   "mimetype": "text/x-python",
   "name": "python",
   "nbconvert_exporter": "python",
   "pygments_lexer": "ipython3",
   "version": "3.12.5"
  }
 },
 "nbformat": 4,
 "nbformat_minor": 2
}
