{
 "cells": [
  {
   "cell_type": "markdown",
   "metadata": {},
   "source": [
    "# Testing Algorithm\n"
   ]
  },
  {
   "cell_type": "markdown",
   "metadata": {},
   "source": [
    "#### Further References:\n"
   ]
  },
  {
   "cell_type": "code",
   "execution_count": 1,
   "metadata": {},
   "outputs": [],
   "source": [
    "%load_ext autoreload\n",
    "%autoreload 2"
   ]
  },
  {
   "cell_type": "code",
   "execution_count": 2,
   "metadata": {},
   "outputs": [],
   "source": [
    "import sys\n",
    "\n",
    "import pm4py\n",
    "\n",
    "\n",
    "sys.path.append(\"/workspaces/university-petri-nets/\")\n",
    "\n",
    "from backend.compositional_algorithm.combine_nets.combine_nets import MergeNets\n",
    "from backend.compositional_algorithm.compositional_algorithm import (\n",
    "    compositional_discovery,\n",
    ")\n",
    "from backend.compositional_algorithm.compositional_algorithm import discover\n",
    "from backend.compositional_algorithm.compositional_algorithm import is_isomorphic\n",
    "from backend.compositional_algorithm.compositional_algorithm import (\n",
    "    is_net_valid,\n",
    "    is_transformation_valid,\n",
    ")\n",
    "from backend.compositional_algorithm.compositional_algorithm import is_refinement\n",
    "from backend.compositional_algorithm.interface_patterns.interface_patterns import (\n",
    "    INTERFACE_PATTERNS,\n",
    ")\n",
    "from backend.compositional_algorithm.split_miner import split_miner\n",
    "from backend.compositional_algorithm.transformations.transformations import (\n",
    "    TRANSFORMATIONS,\n",
    ")"
   ]
  },
  {
   "cell_type": "markdown",
   "metadata": {},
   "source": [
    "#### 0. Input\n"
   ]
  },
  {
   "cell_type": "code",
   "execution_count": 3,
   "metadata": {},
   "outputs": [],
   "source": [
    "log_path = \"/workspaces/university-petri-nets/backend/data_catalog/compositional_process_discovery_experiment_data/IP-1/IP-1_initial_log.xes\"\n",
    "algorithm = pm4py.discover_petri_net_inductive\n",
    "algorithm2 = pm4py.discover_petri_net_alpha\n",
    "algorithm3 = pm4py.discover_petri_net_heuristics\n",
    "algorithm4 = split_miner\n"
   ]
  },
  {
   "cell_type": "code",
   "execution_count": null,
   "metadata": {},
   "outputs": [],
   "source": [
    "# compositionally mined process model\n",
    "pn_coposition_mined, initial_marking, final_marking = pm4py.read_pnml(\n",
    "    \"/workspaces/university-petri-nets/backend/data_catalog/compositional_process_discovery_experiment_data/IP-1/IP-1_composition_mined.pnml\",\n",
    ")\n",
    "pm4py.view_petri_net(pn_coposition_mined, initial_marking, final_marking, format=\"png\")"
   ]
  },
  {
   "cell_type": "code",
   "execution_count": null,
   "metadata": {},
   "outputs": [],
   "source": [
    "IP1 = INTERFACE_PATTERNS[0]\n",
    "ip1_net_a1, ip1_initial_marking_a1, ip1_final_marking_a1 = IP1.get_net(\"A1\")\n",
    "pm4py.view_petri_net(ip1_net_a1, ip1_initial_marking_a1, ip1_final_marking_a1)\n",
    "\n",
    "ip1_net_a2, ip1_initial_marking_a2, ip1_final_marking_a2 = IP1.get_net(\"A2\")\n",
    "pm4py.view_petri_net(ip1_net_a2, ip1_initial_marking_a2, ip1_final_marking_a2)\n",
    "\n",
    "# merge the new\n",
    "ip1_net = MergeNets.merge_nets(ip1_net_a1, ip1_net_a2)\n",
    "\n",
    "# merge the markings\n",
    "initial_marking = MergeNets.merge_markings(\n",
    "    ip1_initial_marking_a1,\n",
    "    ip1_initial_marking_a2,\n",
    ")\n",
    "final_marking = MergeNets.merge_markings(ip1_final_marking_a1, ip1_final_marking_a2)\n",
    "pm4py.view_petri_net(ip1_net, initial_marking, final_marking)"
   ]
  },
  {
   "cell_type": "markdown",
   "metadata": {},
   "source": [
    "#### 1. Directly Discover with the given input\n"
   ]
  },
  {
   "cell_type": "code",
   "execution_count": null,
   "metadata": {},
   "outputs": [],
   "source": [
    "net, initial_marking, final_marking = discover(log_path, algorithm)\n",
    "pm4py.view_petri_net(net, initial_marking, final_marking, format=\"png\")"
   ]
  },
  {
   "cell_type": "markdown",
   "metadata": {},
   "source": [
    "#### 2. Check Net is valid\n"
   ]
  },
  {
   "cell_type": "code",
   "execution_count": 7,
   "metadata": {},
   "outputs": [],
   "source": [
    "assert is_net_valid(net, net) is True"
   ]
  },
  {
   "cell_type": "markdown",
   "metadata": {},
   "source": [
    "#### 3. Check Nets are equal\n"
   ]
  },
  {
   "cell_type": "code",
   "execution_count": 8,
   "metadata": {},
   "outputs": [],
   "source": [
    "assert is_isomorphic(net, net) is True"
   ]
  },
  {
   "cell_type": "markdown",
   "metadata": {},
   "source": [
    "#### 4. Check is Refinement\n"
   ]
  },
  {
   "cell_type": "code",
   "execution_count": 9,
   "metadata": {},
   "outputs": [],
   "source": [
    "transformation_sequence = []"
   ]
  },
  {
   "cell_type": "code",
   "execution_count": null,
   "metadata": {},
   "outputs": [],
   "source": [
    "copy_refine_net = net.__deepcopy__()\n",
    "\n",
    "places = list(copy_refine_net.places)\n",
    "P1 = TRANSFORMATIONS[0]\n",
    "new_net = P1.refine(places[2], copy_refine_net)\n",
    "transformation_seq_element = (P1, places[2])\n",
    "transformation_sequence.append(transformation_seq_element)\n",
    "\n",
    "print(f\"refining at place {places[2]}\")\n",
    "print(transformation_sequence)\n",
    "pm4py.view_petri_net(new_net)"
   ]
  },
  {
   "cell_type": "code",
   "execution_count": null,
   "metadata": {},
   "outputs": [],
   "source": [
    "copy_copy_refine_net = net.__deepcopy__()\n",
    "\n",
    "places = list(copy_copy_refine_net.places)\n",
    "P1 = TRANSFORMATIONS[0]\n",
    "place = [p for p in copy_refine_net.places if p.name == places[2].name]\n",
    "new_net = P1.refine(places[2], copy_refine_net)\n",
    "transformation_seq_element = (P1, place)\n",
    "transformation_sequence.append(transformation_seq_element)\n",
    "print(f\"refining at place {place}\")\n",
    "print(transformation_sequence)\n",
    "pm4py.view_petri_net(new_net)"
   ]
  },
  {
   "cell_type": "code",
   "execution_count": null,
   "metadata": {},
   "outputs": [],
   "source": [
    "assert (\n",
    "    is_transformation_valid(transformation_seq_element, transformation_sequence)\n",
    "    is False\n",
    ")"
   ]
  },
  {
   "cell_type": "code",
   "execution_count": null,
   "metadata": {},
   "outputs": [],
   "source": [
    "# Define the transformations to apply\n",
    "transformations = TRANSFORMATIONS[0:1]  # Adjust this as needed\n",
    "\n",
    "# Make a deep copy of the original net\n",
    "copy_net = ip1_net_a1.__deepcopy__()\n",
    "\n",
    "# Apply each transformation sequentially\n",
    "for transformation in transformations:\n",
    "    new_copy_net = (\n",
    "        copy_net.__deepcopy__()\n",
    "    )  # Make a new deep copy for each transformation\n",
    "    for place in copy_net.places:\n",
    "        new_copy_net = transformation.refine(\n",
    "            place,\n",
    "            new_copy_net,\n",
    "        )\n",
    "    copy_net = new_copy_net  # Update copy_net to the latest transformed net\n",
    "\n",
    "pm4py.view_petri_net(copy_net, initial_marking, final_marking, format=\"png\")"
   ]
  },
  {
   "cell_type": "code",
   "execution_count": null,
   "metadata": {},
   "outputs": [],
   "source": [
    "is_ref, path = is_refinement(net, net, TRANSFORMATIONS)\n",
    "assert is_ref is True"
   ]
  },
  {
   "cell_type": "code",
   "execution_count": 12,
   "metadata": {},
   "outputs": [],
   "source": [
    "assert not is_isomorphic(net, new_net)\n",
    "\n",
    "is_ref, path = is_refinement(net, new_net, TRANSFORMATIONS)\n",
    "print(\"Output:\", is_ref, path)  # noqa: T201"
   ]
  },
  {
   "cell_type": "code",
   "execution_count": 13,
   "metadata": {},
   "outputs": [],
   "source": [
    "assert not is_isomorphic(net, copy_net)\n",
    "\n",
    "is_ref, path = is_refinement(ip1_net_a1, copy_net, TRANSFORMATIONS)\n",
    "print(\"Output:\", is_ref, path)  # noqa: T201"
   ]
  },
  {
   "cell_type": "code",
   "execution_count": null,
   "metadata": {},
   "outputs": [],
   "source": [
    "is_ref, path = is_refinement(ip1_net_a1, net, TRANSFORMATIONS)\n",
    "print(is_ref, path)"
   ]
  },
  {
   "cell_type": "markdown",
   "metadata": {},
   "source": [
    "#### 4. Check Algorithm\n"
   ]
  },
  {
   "cell_type": "code",
   "execution_count": null,
   "metadata": {},
   "outputs": [],
   "source": [
    "discovered_net = compositional_discovery(\n",
    "    input_log_path=log_path,\n",
    "    algorithm=algorithm,\n",
    "    interface_pattern=INTERFACE_PATTERNS[0],\n",
    "    transformations=TRANSFORMATIONS,\n",
    ")\n",
    "pm4py.view_petri_net(discovered_net, format=\"png\")"
   ]
  }
 ],
 "metadata": {
  "kernelspec": {
   "display_name": "Python 3",
   "language": "python",
   "name": "python3"
  },
  "language_info": {
   "codemirror_mode": {
    "name": "ipython",
    "version": 3
   },
   "file_extension": ".py",
   "mimetype": "text/x-python",
   "name": "python",
   "nbconvert_exporter": "python",
   "pygments_lexer": "ipython3",
   "version": "3.12.5"
  }
 },
 "nbformat": 4,
 "nbformat_minor": 2
}
