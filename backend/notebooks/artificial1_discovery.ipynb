{
 "cells": [
  {
   "cell_type": "markdown",
   "metadata": {},
   "source": [
    "# Introduction to the Paper Data Colliery Validation\n"
   ]
  },
  {
   "cell_type": "markdown",
   "metadata": {},
   "source": [
    "#### Further References:\n",
    "\n",
    "-https://bitbucket.org/proslabteam/colliery_validation/src/master/\n"
   ]
  },
  {
   "cell_type": "code",
   "execution_count": 1,
   "metadata": {},
   "outputs": [],
   "source": [
    "%load_ext autoreload\n",
    "%autoreload 2"
   ]
  },
  {
   "cell_type": "code",
   "execution_count": 2,
   "metadata": {},
   "outputs": [],
   "source": [
    "import pm4py"
   ]
  },
  {
   "cell_type": "markdown",
   "metadata": {},
   "source": [
    "#### 1. Import the Event from Single and Collaboration. Inspect Artificial 1\n"
   ]
  },
  {
   "cell_type": "code",
   "execution_count": null,
   "metadata": {},
   "outputs": [],
   "source": [
    "# Load the event log, same for party c\n",
    "df_log_a = pm4py.read_xes(\n",
    "    \"/workspaces/university-petri-nets/backend/data_catalog/colliery_validation/artificial1/PartyA.xes\",\n",
    ")\n",
    "display(df_log_a.head(5))"
   ]
  },
  {
   "cell_type": "code",
   "execution_count": null,
   "metadata": {},
   "outputs": [],
   "source": [
    "# Load the event log\n",
    "df_log_collective = pm4py.read_xes(\n",
    "    \"/workspaces/university-petri-nets/backend/data_catalog/colliery_validation/artificial1/collectivelog.xes\",\n",
    ")\n",
    "display(df_log_collective.head(5))"
   ]
  },
  {
   "cell_type": "markdown",
   "metadata": {},
   "source": [
    "#### 2. Get the Petri Nets\n"
   ]
  },
  {
   "cell_type": "code",
   "execution_count": null,
   "metadata": {},
   "outputs": [],
   "source": [
    "# Directly mined Process model\n",
    "net, initial_marking, final_marking = pm4py.discover_petri_net_inductive(\n",
    "    df_log_collective,\n",
    ")\n",
    "pm4py.view_petri_net(net, initial_marking, final_marking)\n"
   ]
  },
  {
   "cell_type": "code",
   "execution_count": null,
   "metadata": {},
   "outputs": [],
   "source": [
    "# Their Model\n",
    "pn_ref_model, initial_marking, final_marking = pm4py.read_pnml(\n",
    "    \"/workspaces/university-petri-nets/backend/data_catalog/colliery_validation/artificial1/petrinet_of_collaboration_discovered_inductive.pnml\",\n",
    ")\n",
    "pm4py.view_petri_net(pn_ref_model, initial_marking, final_marking)"
   ]
  }
 ],
 "metadata": {
  "kernelspec": {
   "display_name": "Python 3",
   "language": "python",
   "name": "python3"
  },
  "language_info": {
   "codemirror_mode": {
    "name": "ipython",
    "version": 3
   },
   "file_extension": ".py",
   "mimetype": "text/x-python",
   "name": "python",
   "nbconvert_exporter": "python",
   "pygments_lexer": "ipython3",
   "version": "3.12.5"
  }
 },
 "nbformat": 4,
 "nbformat_minor": 2
}
