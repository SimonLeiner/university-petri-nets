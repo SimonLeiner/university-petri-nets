{
 "cells": [
  {
   "cell_type": "markdown",
   "metadata": {},
   "source": [
    "# Guide to Standardize Logs for the Algorithm to work\n"
   ]
  },
  {
   "cell_type": "markdown",
   "metadata": {},
   "source": [
    "#### Further References:\n"
   ]
  },
  {
   "cell_type": "code",
   "execution_count": 1,
   "metadata": {},
   "outputs": [],
   "source": [
    "import pm4py"
   ]
  },
  {
   "cell_type": "markdown",
   "metadata": {},
   "source": [
    "#### 1. Get the Log\n"
   ]
  },
  {
   "cell_type": "code",
   "execution_count": null,
   "metadata": {},
   "outputs": [],
   "source": [
    "# Load the event log\n",
    "df_log_optimal = pm4py.read_xes(\n",
    "    \"/app/backend/data_catalog/final_logs/IP-1_initial_log.xes\",\n",
    ")\n",
    "display(df_log_optimal.head(5))"
   ]
  },
  {
   "cell_type": "code",
   "execution_count": null,
   "metadata": {},
   "outputs": [],
   "source": [
    "display(df_log_optimal[\"concept:name\"].unique())"
   ]
  },
  {
   "cell_type": "code",
   "execution_count": null,
   "metadata": {},
   "outputs": [],
   "source": [
    "net, initial_marking, final_marking = pm4py.discover_petri_net_inductive(df_log_optimal)\n",
    "pm4py.view_petri_net(net, initial_marking, final_marking)"
   ]
  },
  {
   "cell_type": "code",
   "execution_count": null,
   "metadata": {},
   "outputs": [],
   "source": []
  },
  {
   "cell_type": "code",
   "execution_count": null,
   "metadata": {},
   "outputs": [],
   "source": [
    "# Load the event log\n",
    "df_log_old = pm4py.read_xes(\n",
    "    \"/app/backend/data_catalog/compositional_process_discovery_experiment_data/IP-5/IP-5_init_log.xes\",\n",
    ")\n",
    "display(df_log_old.head(5))\n",
    "display(df_log_old[\"concept:name\"].unique())"
   ]
  },
  {
   "cell_type": "code",
   "execution_count": null,
   "metadata": {},
   "outputs": [],
   "source": [
    "# Load the event log\n",
    "df_log_old = pm4py.read_xes(\n",
    "    \"/app/backend/data_catalog/compositional_process_discovery_experiment_data/IP-7/IP-7_init_log.xes\",\n",
    ")\n",
    "display(df_log_old.head(5))\n",
    "display(df_log_old[\"concept:name\"].unique())"
   ]
  },
  {
   "cell_type": "code",
   "execution_count": null,
   "metadata": {},
   "outputs": [],
   "source": [
    "# Load the event log\n",
    "df_log_old = pm4py.read_xes(\n",
    "    \"/app/backend/data_catalog/compositional_process_discovery_experiment_data/IP-2/IP2_initial_log.xes\",\n",
    ")\n",
    "display(df_log_old.head(5))\n",
    "display(df_log_old[\"concept:name\"].unique())\n"
   ]
  },
  {
   "cell_type": "code",
   "execution_count": null,
   "metadata": {},
   "outputs": [],
   "source": [
    "net, initial_marking, final_marking = pm4py.discover_petri_net_inductive(df_log_old)\n",
    "pm4py.view_petri_net(net, initial_marking, final_marking)"
   ]
  },
  {
   "cell_type": "code",
   "execution_count": null,
   "metadata": {},
   "outputs": [],
   "source": [
    "# Load the event log\n",
    "df_log_new = pm4py.read_xes(\n",
    "    \"/app/backend/data_catalog/event-logs-cleanup_2024-09-05_0920/IP-2_init_log.xes\",\n",
    ")\n",
    "display(df_log_new.head(5))"
   ]
  },
  {
   "cell_type": "code",
   "execution_count": null,
   "metadata": {},
   "outputs": [],
   "source": [
    "# discover net directly\n",
    "net, initial_marking, final_marking = pm4py.discover_petri_net_inductive(df_log_new)\n",
    "pm4py.view_petri_net(net, initial_marking, final_marking)"
   ]
  },
  {
   "cell_type": "code",
   "execution_count": null,
   "metadata": {},
   "outputs": [],
   "source": [
    "# Load the event log\n",
    "df_log_old = pm4py.read_xes(\n",
    "    \"/app/backend/data_catalog/colliery_validation/artificial1/collectivelog.xes\",\n",
    ")\n",
    "display(df_log_old.head(5))\n",
    "display(df_log_old[\"concept:name\"].unique())\n",
    "display(df_log_old[\"concept:name\"].unique())"
   ]
  },
  {
   "cell_type": "code",
   "execution_count": null,
   "metadata": {},
   "outputs": [],
   "source": [
    "net, initial_marking, final_marking = pm4py.discover_petri_net_inductive(df_log_old)\n",
    "pm4py.view_petri_net(net, initial_marking, final_marking)"
   ]
  },
  {
   "cell_type": "code",
   "execution_count": null,
   "metadata": {},
   "outputs": [],
   "source": [
    "# Load the event log\n",
    "df_log_old = pm4py.read_xes(\n",
    "    \"/app/backend/data_catalog/tase_data/EM_Log.xes\",\n",
    ")\n",
    "display(df_log_old.head(5))\n",
    "display(df_log_old[\"concept:name\"].unique())\n",
    "display(df_log_old[\"concept:name\"].unique())"
   ]
  },
  {
   "cell_type": "code",
   "execution_count": null,
   "metadata": {},
   "outputs": [],
   "source": [
    "import pandas as pd\n",
    "import numpy as np\n",
    "import pm4py  # Assuming pm4py is imported\n",
    "\n",
    "# Read the XES file\n",
    "df = pm4py.read_xes(\n",
    "    \"/app/backend/data_catalog/tase_data/EM_Log.xes\",\n",
    ")\n",
    "\n",
    "# Display the DataFrame\n",
    "display(df)\n",
    "\n",
    "# Initialize the concept:name column if it doesn't exist\n",
    "if \"concept:name\" not in df.columns:\n",
    "    df[\"concept:name\"] = \"\"\n",
    "\n",
    "# Create conditions and choices\n",
    "conditions = []\n",
    "choices = []\n",
    "\n",
    "if \"msgFlow\" in df.columns and \"msgType\" in df.columns:\n",
    "    conditions.append(df[\"msgType\"] == \"send\")\n",
    "    choices.append(\"_\" + df[\"msgFlow\"] + \"!\")\n",
    "\n",
    "    conditions.append(df[\"msgType\"] == \"receive\")\n",
    "    choices.append(\"_\" + df[\"msgFlow\"] + \"?\")\n",
    "\n",
    "    conditions.append(~df[\"msgType\"].isin([\"send\", \"receive\"]))\n",
    "    choices.append(\"\")\n",
    "\n",
    "elif \"Message:Sent\" in df.columns and \"Message:Rec\" in df.columns:\n",
    "    conditions.append(pd.notnull(df[\"Message:Sent\"]) | pd.notnull(df[\"Message:Rec\"]))\n",
    "    choices.append(df[\"Message:Sent\"].fillna(\"\") + df[\"Message:Rec\"].fillna(\"\"))\n",
    "\n",
    "# Use numpy.select to assign the new values\n",
    "new_values = np.select(conditions, choices, default=\"\")\n",
    "# Append new values to the existing values in the concept:name column\n",
    "df[\"concept:name\"] = df[\"concept:name\"] + new_values\n",
    "display(df)"
   ]
  },
  {
   "cell_type": "code",
   "execution_count": null,
   "metadata": {},
   "outputs": [],
   "source": [
    "import pandas as pd\n",
    "import numpy as np\n",
    "import pm4py  # Assuming pm4py is imported\n",
    "\n",
    "# Read the XES file\n",
    "df = pm4py.read_xes(\n",
    "    \"/app/backend/data_catalog/tase_data/EM_Log.xes\",\n",
    ")\n",
    "\n",
    "# Display the DataFrame\n",
    "display(df)\n",
    "\n",
    "# Create conditions and choices\n",
    "conditions = []\n",
    "choices = []\n",
    "\n",
    "if \"msgFlow\" in df.columns and \"msgType\" in df.columns:\n",
    "    conditions.append(df[\"msgType\"] == \"send\")\n",
    "    choices.append(\"_\" + df[\"msgFlow\"] + \"!\")\n",
    "\n",
    "    conditions.append(df[\"msgType\"] == \"receive\")\n",
    "    choices.append(\"_\" + df[\"msgFlow\"] + \"?\")\n",
    "\n",
    "    conditions.append(~df[\"msgType\"].isin([\"send\", \"receive\"]))\n",
    "    choices.append(\"\")\n",
    "\n",
    "elif \"Message:Sent\" in df.columns and \"Message:Rec\" in df.columns:\n",
    "    conditions.append(pd.notna(df[\"Message:Sent\"]))\n",
    "    choices.append(\"_\" + df[\"Message:Sent\"] + \"!\")\n",
    "\n",
    "    conditions.append(pd.notna(df[\"Message:Rec\"]))\n",
    "    choices.append(\"_\" + df[\"Message:Rec\"] + \"?\")\n",
    "\n",
    "    # Check if both Message:Sent and Message:Rec are null\n",
    "    conditions.append(df[\"Message:Sent\"].isna() & df[\"Message:Rec\"].isna())\n",
    "    choices.append(\"\")  # Empty string if both are null\n",
    "\n",
    "\n",
    "# Use numpy.select to assign the new values\n",
    "new_values = np.select(conditions, choices, default=\"\")\n",
    "# Append new values to the existing values in the concept:name column\n",
    "df[\"concept:name\"] = df[\"concept:name\"] + new_values\n",
    "display(df)"
   ]
  },
  {
   "cell_type": "code",
   "execution_count": null,
   "metadata": {},
   "outputs": [],
   "source": [
    "import pm4py\n",
    "df_new = pm4py.read_xes(\n",
    "    \"/app/backend/data_catalog/tase_data/EM_Log.xes\",\n",
    ")"
   ]
  },
  {
   "cell_type": "code",
   "execution_count": null,
   "metadata": {},
   "outputs": [],
   "source": [
    "df = df_new.copy(deep=True)\n",
    "display(df)\n",
    "import pandas as pd\n",
    "import numpy as np\n",
    "conditions = []\n",
    "choices = []\n",
    "\n",
    "print((df[\"Message:Sent\"] == \"null\") & (df[\"Message:Rec\"] == \"null\"))\n",
    "\n",
    "if \"Message:Sent\" in df.columns and \"Message:Rec\" in df.columns:\n",
    "    conditions.append(df[\"Message:Sent\"] != \"null\")\n",
    "    choices.append(\"_\" + df[\"Message:Sent\"] + \"!\")\n",
    "\n",
    "    conditions.append(df[\"Message:Rec\"] != \"null\")\n",
    "    choices.append(\"_\" + df[\"Message:Rec\"] + \"?\")\n",
    "\n",
    "    # # Check if both Message:Sent and Message:Rec are null\n",
    "    conditions.append((df[\"Message:Sent\"] == \"null\") & (df[\"Message:Rec\"] == \"null\"))\n",
    "    choices.append(\"\")\n",
    "\n",
    "\n",
    "# Use numpy.select to assign the new values\n",
    "new_values = np.select(conditions, choices, default=\"\")\n",
    "print(new_values)\n",
    "\n",
    "# Append new values to the existing values in the concept:name column\n",
    "df[\"concept:name\"] = df[\"concept:name\"] + new_values\n",
    "display(df)"
   ]
  }
 ],
 "metadata": {
  "kernelspec": {
   "display_name": "Python 3",
   "language": "python",
   "name": "python3"
  },
  "language_info": {
   "codemirror_mode": {
    "name": "ipython",
    "version": 3
   },
   "file_extension": ".py",
   "mimetype": "text/x-python",
   "name": "python",
   "nbconvert_exporter": "python",
   "pygments_lexer": "ipython3",
   "version": "3.12.6"
  }
 },
 "nbformat": 4,
 "nbformat_minor": 2
}
