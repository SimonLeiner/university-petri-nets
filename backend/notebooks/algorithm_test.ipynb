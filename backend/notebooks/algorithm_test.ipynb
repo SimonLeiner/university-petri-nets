{
 "cells": [
  {
   "cell_type": "markdown",
   "metadata": {},
   "source": [
    "# Testing Algorithm\n"
   ]
  },
  {
   "cell_type": "markdown",
   "metadata": {},
   "source": [
    "#### Further References:\n"
   ]
  },
  {
   "cell_type": "code",
   "execution_count": 33,
   "metadata": {},
   "outputs": [
    {
     "name": "stdout",
     "output_type": "stream",
     "text": [
      "The autoreload extension is already loaded. To reload it, use:\n",
      "  %reload_ext autoreload\n"
     ]
    }
   ],
   "source": [
    "%load_ext autoreload\n",
    "%autoreload 2"
   ]
  },
  {
   "cell_type": "code",
   "execution_count": 34,
   "metadata": {},
   "outputs": [
    {
     "ename": "ImportError",
     "evalue": "cannot import name 'priority_identifier' from 'backend.compositional_algorithm.compositional_algorithm' (/workspaces/university-petri-nets/backend/compositional_algorithm/compositional_algorithm.py)",
     "output_type": "error",
     "traceback": [
      "\u001b[0;31m---------------------------------------------------------------------------\u001b[0m",
      "\u001b[0;31mImportError\u001b[0m                               Traceback (most recent call last)",
      "Cell \u001b[0;32mIn[34], line 17\u001b[0m\n\u001b[1;32m     15\u001b[0m \u001b[38;5;28;01mfrom\u001b[39;00m \u001b[38;5;21;01mbackend\u001b[39;00m\u001b[38;5;21;01m.\u001b[39;00m\u001b[38;5;21;01mcompositional_algorithm\u001b[39;00m\u001b[38;5;21;01m.\u001b[39;00m\u001b[38;5;21;01mcompositional_algorithm\u001b[39;00m \u001b[38;5;28;01mimport\u001b[39;00m is_net_valid\n\u001b[1;32m     16\u001b[0m \u001b[38;5;28;01mfrom\u001b[39;00m \u001b[38;5;21;01mbackend\u001b[39;00m\u001b[38;5;21;01m.\u001b[39;00m\u001b[38;5;21;01mcompositional_algorithm\u001b[39;00m\u001b[38;5;21;01m.\u001b[39;00m\u001b[38;5;21;01mcompositional_algorithm\u001b[39;00m \u001b[38;5;28;01mimport\u001b[39;00m is_refinement\n\u001b[0;32m---> 17\u001b[0m \u001b[38;5;28;01mfrom\u001b[39;00m \u001b[38;5;21;01mbackend\u001b[39;00m\u001b[38;5;21;01m.\u001b[39;00m\u001b[38;5;21;01mcompositional_algorithm\u001b[39;00m\u001b[38;5;21;01m.\u001b[39;00m\u001b[38;5;21;01mcompositional_algorithm\u001b[39;00m \u001b[38;5;28;01mimport\u001b[39;00m priority_identifier\n\u001b[1;32m     18\u001b[0m \u001b[38;5;28;01mfrom\u001b[39;00m \u001b[38;5;21;01mbackend\u001b[39;00m\u001b[38;5;21;01m.\u001b[39;00m\u001b[38;5;21;01mcompositional_algorithm\u001b[39;00m\u001b[38;5;21;01m.\u001b[39;00m\u001b[38;5;21;01minterface_patterns\u001b[39;00m\u001b[38;5;21;01m.\u001b[39;00m\u001b[38;5;21;01minterface_patterns\u001b[39;00m \u001b[38;5;28;01mimport\u001b[39;00m (\n\u001b[1;32m     19\u001b[0m     INTERFACE_PATTERNS,\n\u001b[1;32m     20\u001b[0m )\n\u001b[1;32m     21\u001b[0m \u001b[38;5;28;01mfrom\u001b[39;00m \u001b[38;5;21;01mbackend\u001b[39;00m\u001b[38;5;21;01m.\u001b[39;00m\u001b[38;5;21;01mcompositional_algorithm\u001b[39;00m\u001b[38;5;21;01m.\u001b[39;00m\u001b[38;5;21;01mtransformations\u001b[39;00m\u001b[38;5;21;01m.\u001b[39;00m\u001b[38;5;21;01mtransformations\u001b[39;00m \u001b[38;5;28;01mimport\u001b[39;00m (\n\u001b[1;32m     22\u001b[0m     TRANSFORMATIONS,\n\u001b[1;32m     23\u001b[0m )\n",
      "\u001b[0;31mImportError\u001b[0m: cannot import name 'priority_identifier' from 'backend.compositional_algorithm.compositional_algorithm' (/workspaces/university-petri-nets/backend/compositional_algorithm/compositional_algorithm.py)"
     ]
    }
   ],
   "source": [
    "import sys\n",
    "\n",
    "import pm4py\n",
    "\n",
    "\n",
    "sys.path.append(\"/workspaces/university-petri-nets/\")\n",
    "\n",
    "from backend.compositional_algorithm.combine_nets.combine_nets import MergeNets\n",
    "from backend.compositional_algorithm.compositional_algorithm import (\n",
    "    compositional_discovery,\n",
    ")\n",
    "from backend.compositional_algorithm.compositional_algorithm import discover\n",
    "from backend.compositional_algorithm.compositional_algorithm import generate_unique_id\n",
    "from backend.compositional_algorithm.compositional_algorithm import is_isomorphic\n",
    "from backend.compositional_algorithm.compositional_algorithm import is_net_valid\n",
    "from backend.compositional_algorithm.compositional_algorithm import is_refinement\n",
    "from backend.compositional_algorithm.compositional_algorithm import priority_identifier\n",
    "from backend.compositional_algorithm.interface_patterns.interface_patterns import (\n",
    "    INTERFACE_PATTERNS,\n",
    ")\n",
    "from backend.compositional_algorithm.transformations.transformations import (\n",
    "    TRANSFORMATIONS,\n",
    ")\n",
    "from backend.compositional_algorithm.transformations.transformations import (\n",
    "    PlaceTransformation,\n",
    ")\n",
    "from backend.compositional_algorithm.transformations.transformations import (\n",
    "    TransitionTransformation,\n",
    ")"
   ]
  },
  {
   "cell_type": "markdown",
   "metadata": {},
   "source": [
    "#### 0. Algorithm Input\n"
   ]
  },
  {
   "cell_type": "code",
   "execution_count": null,
   "metadata": {},
   "outputs": [],
   "source": [
    "# define log path\n",
    "log_path = \"/workspaces/university-petri-nets/backend/data_catalog/compositional_process_discovery_experiment_data/IP-1/IP-1_initial_log.xes\"\n",
    "\n",
    "# select algorithm\n",
    "algorithm = pm4py.discover_petri_net_inductive\n",
    "\n",
    "# interface pattern\n",
    "IP1 = INTERFACE_PATTERNS[0]\n",
    "ip1_net_a1, ip1_initial_marking_a1, ip1_final_marking_a1 = IP1.get_net(\"A1\")\n",
    "pm4py.view_petri_net(ip1_net_a1, ip1_initial_marking_a1, ip1_final_marking_a1)\n",
    "ip1_net_a2, ip1_initial_marking_a2, ip1_final_marking_a2 = IP1.get_net(\"A2\")\n",
    "pm4py.view_petri_net(ip1_net_a2, ip1_initial_marking_a2, ip1_final_marking_a2)\n",
    "ip1_net = MergeNets.merge_nets(ip1_net_a1, ip1_net_a2)\n",
    "initial_marking = MergeNets.merge_markings(\n",
    "    ip1_initial_marking_a1,\n",
    "    ip1_initial_marking_a2,\n",
    ")\n",
    "final_marking = MergeNets.merge_markings(ip1_final_marking_a1, ip1_final_marking_a2)\n",
    "pm4py.view_petri_net(ip1_net, initial_marking, final_marking)"
   ]
  },
  {
   "cell_type": "markdown",
   "metadata": {},
   "source": [
    "#### 1. Directly Discover with the given input\n"
   ]
  },
  {
   "cell_type": "code",
   "execution_count": null,
   "metadata": {},
   "outputs": [],
   "source": [
    "# discover by selected algorithm\n",
    "net, initial_marking, final_marking = discover(log_path, algorithm)\n",
    "pm4py.view_petri_net(net, initial_marking, final_marking, format=\"png\")"
   ]
  },
  {
   "cell_type": "markdown",
   "metadata": {},
   "source": [
    "#### 2. Check Net is valid\n"
   ]
  },
  {
   "cell_type": "code",
   "execution_count": 22,
   "metadata": {},
   "outputs": [],
   "source": [
    "# check helper functions works\n",
    "assert is_net_valid(net, net) is True"
   ]
  },
  {
   "cell_type": "markdown",
   "metadata": {},
   "source": [
    "#### 3. Check Nets are equal\n"
   ]
  },
  {
   "cell_type": "code",
   "execution_count": 23,
   "metadata": {},
   "outputs": [],
   "source": [
    "# check net comparison works\n",
    "assert is_isomorphic(net, net) is True"
   ]
  },
  {
   "cell_type": "markdown",
   "metadata": {},
   "source": [
    "#### 4. Check ID Hash\n"
   ]
  },
  {
   "cell_type": "code",
   "execution_count": 24,
   "metadata": {},
   "outputs": [],
   "source": [
    "assert generate_unique_id(net) == generate_unique_id(net)"
   ]
  },
  {
   "cell_type": "markdown",
   "metadata": {},
   "source": [
    "#### 4. Check Priority Identifier\n"
   ]
  },
  {
   "cell_type": "code",
   "execution_count": null,
   "metadata": {},
   "outputs": [],
   "source": [
    "priority_identifier(net, net)"
   ]
  },
  {
   "cell_type": "markdown",
   "metadata": {},
   "source": [
    "#### 5. Check is Refinement\n"
   ]
  },
  {
   "cell_type": "markdown",
   "metadata": {},
   "source": [
    "##### 5.1 Apply single refinement\n"
   ]
  },
  {
   "cell_type": "code",
   "execution_count": null,
   "metadata": {},
   "outputs": [],
   "source": [
    "# sequence\n",
    "transformation_sequence = []\n",
    "\n",
    "# initial net\n",
    "copy_refine_net = net.__deepcopy__()\n",
    "\n",
    "# apply a P1 transformation\n",
    "places = list(copy_refine_net.places)\n",
    "P1 = TRANSFORMATIONS[0]\n",
    "single_refined_net = P1.refine(places[2], copy_refine_net)\n",
    "transformation_seq_element = (P1, places[2])\n",
    "transformation_sequence.append(transformation_seq_element)\n",
    "\n",
    "print(f\"refining at place {places[2]}\")  # noqa: T201\n",
    "print(transformation_sequence)  # noqa: T201\n",
    "pm4py.view_petri_net(single_refined_net)"
   ]
  },
  {
   "cell_type": "markdown",
   "metadata": {},
   "source": [
    "##### 5.2 Apply multiple refinements\n"
   ]
  },
  {
   "cell_type": "code",
   "execution_count": null,
   "metadata": {},
   "outputs": [],
   "source": [
    "# Make a deep copy of the original net\n",
    "multiple_refined_net = ip1_net_a1.__deepcopy__()\n",
    "\n",
    "# split in place and transition transformations\n",
    "place_transformations = [\n",
    "    t for t in TRANSFORMATIONS if isinstance(t(), PlaceTransformation)\n",
    "]\n",
    "transition_transformations = [\n",
    "    t for t in TRANSFORMATIONS if isinstance(t(), TransitionTransformation)\n",
    "]\n",
    "\n",
    "# Note: branching logic: we need to apply all possible transformations\n",
    "# for each place in the current net\n",
    "for place in multiple_refined_net.places:\n",
    "    # apply each possible place transformation\n",
    "    for place_transformation in place_transformations:\n",
    "        # Note: Deep copy of the current net before applying the transformation -> transformation change places & transitions and sets are immutable.\n",
    "        net_copy = multiple_refined_net.__deepcopy__()\n",
    "        transformed_net = place_transformation.refine(place, net_copy)\n",
    "\n",
    "        # Update multiple_refined_net to the latest transformed net\n",
    "        multiple_refined_net = transformed_net\n",
    "\n",
    "# for each transition in the current net\n",
    "for transition in multiple_refined_net.transitions:\n",
    "    # apply each possible transition transformation\n",
    "    for transition_transformation in transition_transformations:\n",
    "        # Note: ensures that subsequent transformations are applied to a fresh instance of the net.\n",
    "        net_copy = multiple_refined_net.__deepcopy__()\n",
    "        transformed_net = transition_transformation.refine(\n",
    "            transition,\n",
    "            net_copy,\n",
    "        )\n",
    "\n",
    "    # Update multiple_refined_net to the latest transformed net\n",
    "    multiple_refined_net = transformed_net\n",
    "\n",
    "pm4py.view_petri_net(multiple_refined_net, initial_marking, final_marking, format=\"png\")"
   ]
  },
  {
   "cell_type": "code",
   "execution_count": null,
   "metadata": {},
   "outputs": [],
   "source": [
    "# check if the net is a refinement\n",
    "is_ref, path = is_refinement(net, net, TRANSFORMATIONS)\n",
    "assert is_ref is True"
   ]
  },
  {
   "cell_type": "code",
   "execution_count": null,
   "metadata": {},
   "outputs": [],
   "source": [
    "assert not is_isomorphic(net, single_refined_net)\n",
    "\n",
    "# check refinement algorithm\n",
    "is_ref, path = is_refinement(net, single_refined_net, TRANSFORMATIONS)\n",
    "print(\"Output:\", is_ref, path)  # noqa: T201"
   ]
  },
  {
   "cell_type": "code",
   "execution_count": null,
   "metadata": {},
   "outputs": [],
   "source": [
    "assert not is_isomorphic(net, multiple_refined_net)\n",
    "\n",
    "# check refinement algorithm\n",
    "is_ref, path = is_refinement(ip1_net_a1, multiple_refined_net, TRANSFORMATIONS)\n",
    "print(\"Output:\", is_ref, path)  # noqa: T201"
   ]
  },
  {
   "cell_type": "code",
   "execution_count": null,
   "metadata": {},
   "outputs": [],
   "source": [
    "# Check if refinement is possible\n",
    "is_ref, path = is_refinement(ip1_net_a1, net, TRANSFORMATIONS)\n",
    "print(is_ref, path)"
   ]
  },
  {
   "cell_type": "markdown",
   "metadata": {},
   "source": [
    "#### 4. Check Algorithm\n"
   ]
  },
  {
   "cell_type": "code",
   "execution_count": null,
   "metadata": {},
   "outputs": [],
   "source": [
    "# discovered net\n",
    "discovered_net = compositional_discovery(\n",
    "    input_log_path=log_path,\n",
    "    algorithm=algorithm,\n",
    "    interface_pattern=INTERFACE_PATTERNS[0],\n",
    "    transformations=TRANSFORMATIONS,\n",
    ")\n",
    "pm4py.view_petri_net(discovered_net, format=\"png\")"
   ]
  },
  {
   "cell_type": "code",
   "execution_count": null,
   "metadata": {},
   "outputs": [],
   "source": [
    "# compositionally mined process model from paper\n",
    "pn_coposition_mined, initial_marking, final_marking = pm4py.read_pnml(\n",
    "    \"/workspaces/university-petri-nets/backend/data_catalog/compositional_process_discovery_experiment_data/IP-1/IP-1_composition_mined.pnml\",\n",
    ")\n",
    "pm4py.view_petri_net(pn_coposition_mined, initial_marking, final_marking, format=\"png\")"
   ]
  },
  {
   "cell_type": "markdown",
   "metadata": {},
   "source": [
    "#### 5. Conformance Checking\n"
   ]
  },
  {
   "cell_type": "code",
   "execution_count": null,
   "metadata": {},
   "outputs": [],
   "source": [
    "df_log = pm4py.read_xes(log_path)"
   ]
  },
  {
   "cell_type": "code",
   "execution_count": null,
   "metadata": {},
   "outputs": [],
   "source": [
    "# guarateed by our algorithm\n",
    "pm4py.check_soundness(net, initial_marking, final_marking)"
   ]
  },
  {
   "cell_type": "code",
   "execution_count": null,
   "metadata": {},
   "outputs": [],
   "source": [
    "# Check conformance of your collaboration process model and the event log with alignment-based fitness\n",
    "pm4py.fitness_token_based_replay(df_log, net, initial_marking, final_marking)\n",
    "pm4py.precision_token_based_replay(df_log, net, initial_marking, final_marking)"
   ]
  },
  {
   "cell_type": "code",
   "execution_count": null,
   "metadata": {},
   "outputs": [],
   "source": [
    "# alignment-based precision\n",
    "pm4py.conformance_diagnostics_alignments(df_log, net, initial_marking, final_marking)"
   ]
  },
  {
   "cell_type": "code",
   "execution_count": null,
   "metadata": {},
   "outputs": [],
   "source": [
    "pm4py.fitness_alignments(df_log, net, initial_marking, final_marking)\n",
    "pm4py.precision_alignments(df_log, net, initial_marking, final_marking)"
   ]
  }
 ],
 "metadata": {
  "kernelspec": {
   "display_name": "Python 3",
   "language": "python",
   "name": "python3"
  },
  "language_info": {
   "codemirror_mode": {
    "name": "ipython",
    "version": 3
   },
   "file_extension": ".py",
   "mimetype": "text/x-python",
   "name": "python",
   "nbconvert_exporter": "python",
   "pygments_lexer": "ipython3",
   "version": "3.12.5"
  }
 },
 "nbformat": 4,
 "nbformat_minor": 2
}
