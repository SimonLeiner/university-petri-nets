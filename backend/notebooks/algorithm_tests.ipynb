{
 "cells": [
  {
   "cell_type": "markdown",
   "metadata": {},
   "source": [
    "# Testing Algorithm\n"
   ]
  },
  {
   "cell_type": "markdown",
   "metadata": {},
   "source": [
    "#### Further References:\n"
   ]
  },
  {
   "cell_type": "code",
   "execution_count": 1,
   "metadata": {},
   "outputs": [],
   "source": [
    "%load_ext autoreload\n",
    "%autoreload 2"
   ]
  },
  {
   "cell_type": "code",
   "execution_count": 2,
   "metadata": {},
   "outputs": [],
   "source": [
    "import sys\n",
    "\n",
    "import pm4py\n",
    "\n",
    "\n",
    "sys.path.append(\"/workspaces/university-petri-nets/\")\n",
    "\n",
    "from backend.compositional_algorithm.compositional_algorithm import check_net_valid\n",
    "from backend.compositional_algorithm.compositional_algorithm import discover\n",
    "from backend.compositional_algorithm.compositional_algorithm import is_isomorphic\n",
    "from backend.compositional_algorithm.compositional_algorithm import is_refinement\n",
    "from backend.compositional_algorithm.interface_patterns.interface_patterns import (\n",
    "    INTERFACE_PATTERNS,\n",
    ")\n",
    "from backend.compositional_algorithm.split_miner import split_miner\n",
    "from backend.compositional_algorithm.transformations.transformations import (\n",
    "    TRANSFORMATIONS,\n",
    ")"
   ]
  },
  {
   "cell_type": "markdown",
   "metadata": {},
   "source": [
    "#### 0. Input\n"
   ]
  },
  {
   "cell_type": "code",
   "execution_count": 3,
   "metadata": {},
   "outputs": [],
   "source": [
    "log_path = \"/workspaces/university-petri-nets/backend/data_catalog/compositional_process_discovery_experiment_data/IP-1/IP-1_initial_log.xes\"\n",
    "algorithm = pm4py.discover_petri_net_inductive\n",
    "algorithm2 = pm4py.discover_petri_net_alpha\n",
    "algorithm3 = pm4py.discover_petri_net_heuristics\n",
    "algorithm4 = split_miner\n"
   ]
  },
  {
   "cell_type": "code",
   "execution_count": null,
   "metadata": {},
   "outputs": [],
   "source": [
    "IP1 = INTERFACE_PATTERNS[0]()\n",
    "ip1_net_a1, ip1_initial_marking_a1, ip1_final_marking_a1 = IP1.get_net(\"A1\")\n",
    "pm4py.view_petri_net(ip1_net_a1, ip1_initial_marking_a1, ip1_final_marking_a1)\n",
    "\n",
    "ip1_net_a2, ip1_initial_marking_a2, ip1_final_marking_a2 = IP1.get_net(\"A2\")\n",
    "pm4py.view_petri_net(ip1_net_a2, ip1_initial_marking_a2, ip1_final_marking_a2)\n",
    "\n",
    "ip1_net, ip1_initial_marking, ip1_final_marking = IP1.get_net(\"IP1\")\n",
    "pm4py.view_petri_net(ip1_net, ip1_initial_marking, ip1_final_marking)"
   ]
  },
  {
   "cell_type": "markdown",
   "metadata": {},
   "source": [
    "#### 1. Directly Discover with the given input\n"
   ]
  },
  {
   "cell_type": "code",
   "execution_count": 5,
   "metadata": {},
   "outputs": [],
   "source": [
    "# net, initial_marking, final_marking = discover(log_path, algorithm4)\n",
    "# pm4py.view_petri_net(net, initial_marking, final_marking, format=\"png\")"
   ]
  },
  {
   "cell_type": "code",
   "execution_count": null,
   "metadata": {},
   "outputs": [],
   "source": [
    "net, initial_marking, final_marking = discover(log_path, algorithm)\n",
    "pm4py.view_petri_net(net, initial_marking, final_marking, format=\"png\")"
   ]
  },
  {
   "cell_type": "markdown",
   "metadata": {},
   "source": [
    "#### 2. Check Net is valid\n"
   ]
  },
  {
   "cell_type": "code",
   "execution_count": 7,
   "metadata": {},
   "outputs": [],
   "source": [
    "assert check_net_valid(net, net) is True"
   ]
  },
  {
   "cell_type": "markdown",
   "metadata": {},
   "source": [
    "#### 3. Check Nets are equal\n"
   ]
  },
  {
   "cell_type": "code",
   "execution_count": 8,
   "metadata": {},
   "outputs": [],
   "source": [
    "assert is_isomorphic(net, net) is True"
   ]
  },
  {
   "cell_type": "markdown",
   "metadata": {},
   "source": [
    "#### 4. Check is Refinement\n"
   ]
  },
  {
   "cell_type": "code",
   "execution_count": null,
   "metadata": {},
   "outputs": [],
   "source": [
    "places = list(net.places)\n",
    "P1 = TRANSFORMATIONS[0]\n",
    "new_net = P1.refine(places[2], net)\n",
    "pm4py.view_petri_net(net, initial_marking, final_marking, format=\"png\")"
   ]
  },
  {
   "cell_type": "code",
   "execution_count": 10,
   "metadata": {},
   "outputs": [],
   "source": [
    "is_ref, path = is_refinement(net, net, TRANSFORMATIONS)\n",
    "assert is_ref is True"
   ]
  },
  {
   "cell_type": "code",
   "execution_count": 11,
   "metadata": {},
   "outputs": [],
   "source": [
    "is_ref, path = is_refinement(ip1_net_a1, ip1_net_a1, TRANSFORMATIONS)\n",
    "assert is_ref is True"
   ]
  },
  {
   "cell_type": "code",
   "execution_count": null,
   "metadata": {},
   "outputs": [],
   "source": [
    "is_ref, path = is_refinement(ip1_net_a1, net, TRANSFORMATIONS)\n",
    "print(is_ref, path)  # noqa: T201\n"
   ]
  }
 ],
 "metadata": {
  "kernelspec": {
   "display_name": "Python 3",
   "language": "python",
   "name": "python3"
  },
  "language_info": {
   "codemirror_mode": {
    "name": "ipython",
    "version": 3
   },
   "file_extension": ".py",
   "mimetype": "text/x-python",
   "name": "python",
   "nbconvert_exporter": "python",
   "pygments_lexer": "ipython3",
   "version": "3.12.5"
  }
 },
 "nbformat": 4,
 "nbformat_minor": 2
}
