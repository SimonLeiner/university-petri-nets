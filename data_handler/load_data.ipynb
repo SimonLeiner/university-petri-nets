{
 "cells": [
  {
   "cell_type": "markdown",
   "metadata": {},
   "source": [
    "# Guide to Load Data form XML File\n"
   ]
  },
  {
   "cell_type": "markdown",
   "metadata": {},
   "source": [
    "#### Further References:\n"
   ]
  },
  {
   "cell_type": "code",
   "execution_count": null,
   "metadata": {},
   "outputs": [],
   "source": [
    "import pm4py\n"
   ]
  },
  {
   "cell_type": "markdown",
   "metadata": {},
   "source": [
    "#### 1. TODO\n"
   ]
  },
  {
   "cell_type": "code",
   "execution_count": null,
   "metadata": {},
   "outputs": [],
   "source": [
    "log = pm4py.read_xes(\"/home/janik/PycharmProjects/cpmaturity/corradinidata/artificial1/collectivelog.xes\")\n",
    "pn = pm4py.read_pnml(\"/home/janik/temp/artificial1.pnml\")\n",
    "\n",
    "fitness = pm4py.fitness_alignments(log, *pn)\n",
    "precision = pm4py.precision_alignments(log, *pn)\n",
    "alignments = pm4py.conformance_diagnostics_alignments(log, *pn)\n"
   ]
  }
 ],
 "metadata": {
  "language_info": {
   "name": "python"
  }
 },
 "nbformat": 4,
 "nbformat_minor": 2
}
